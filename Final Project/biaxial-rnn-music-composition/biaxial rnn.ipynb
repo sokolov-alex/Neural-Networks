{
 "cells": [
  {
   "cell_type": "code",
   "execution_count": 1,
   "metadata": {
    "collapsed": false,
    "scrolled": true
   },
   "outputs": [
    {
     "name": "stderr",
     "output_type": "stream",
     "text": [
      "Using gpu device 0: GeForce GTX 860M (CNMeM is enabled with initial size: 80.0% of memory, CuDNN 4004)\n",
      "model.py:367: UserWarning: Updating an `OrderedUpdates` with a non-ordered dictionary with 2+ elements could make your code non-deterministic\n",
      "  self.walk_input: next_input\n",
      "model.py:370: UserWarning: Updating an `OrderedUpdates` with a non-ordered dictionary with 2+ elements could make your code non-deterministic\n",
      "  updates.update({hidden:newstate for hidden, newstate, layer in zip(self.walk_hiddens, new_states, self.time_model.layers) if has_hidden(layer)})\n"
     ]
    }
   ],
   "source": [
    "import cPickle as pickle\n",
    "import gzip\n",
    "import numpy\n",
    "from midi_to_statematrix import *\n",
    "\n",
    "import multi_training\n",
    "import model\n",
    "\n",
    "\n",
    "def gen_adaptive(m, pcs, times, keep_thoughts=False, name=\"final\"):\n",
    "    xIpt, xOpt = map(lambda x: numpy.array(x, dtype='int8'), multi_training.getPieceSegment(pcs))\n",
    "    all_outputs = [xOpt[0]]\n",
    "    if keep_thoughts:\n",
    "        all_thoughts = []\n",
    "    m.start_slow_walk(xIpt[0])\n",
    "    cons = 1\n",
    "    for time in range(multi_training.batch_len * times):\n",
    "        resdata = m.slow_walk_fun(cons)\n",
    "        nnotes = numpy.sum(resdata[-1][:, 0])\n",
    "        if nnotes < 2:\n",
    "            if cons > 1:\n",
    "                cons = 1\n",
    "            cons -= 0.02\n",
    "        else:\n",
    "            cons += (1 - cons) * 0.3\n",
    "        all_outputs.append(resdata[-1])\n",
    "        if keep_thoughts:\n",
    "            all_thoughts.append(resdata)\n",
    "    noteStateMatrixToMidi(numpy.array(all_outputs), 'output/' + name)\n",
    "    if keep_thoughts:\n",
    "        pickle.dump(all_thoughts, open('output/' + name + '.p', 'wb'))\n",
    "\n",
    "\n",
    "def fetch_train_thoughts(m, pcs, batches, name=\"trainthoughts\"):\n",
    "    all_thoughts = []\n",
    "    for i in range(batches):\n",
    "        ipt, opt = multi_training.getPieceBatch(pcs)\n",
    "        thoughts = m.update_thought_fun(ipt, opt)\n",
    "        all_thoughts.append((ipt, opt, thoughts))\n",
    "    pickle.dump(all_thoughts, open('output/' + name + '.p', 'wb'))\n",
    "\n",
    "\n",
    "pcs = multi_training.loadPieces(\"music\")\n",
    "\n",
    "m = model.Model([300, 300], [100, 50], dropout=0.5)"
   ]
  },
  {
   "cell_type": "code",
   "execution_count": 3,
   "metadata": {
    "collapsed": false
   },
   "outputs": [
    {
     "name": "stdout",
     "output_type": "stream",
     "text": [
      "epoch 0, error=127650.9375\n",
      "epoch 100, error=21160.375\n",
      "epoch 200, error=14519.4873047\n",
      "epoch 300, error=10987.1601562\n",
      "epoch 400, error=10200.1669922\n"
     ]
    }
   ],
   "source": [
    "batches = 500\n",
    "\n",
    "multi_training.trainPiece(m, pcs, batches)\n",
    "\n",
    "pickle.dump(m.learned_config, open(\"output/final_learned_config_{0}.p\".format(batches), \"wb\"))"
   ]
  },
  {
   "cell_type": "code",
   "execution_count": 4,
   "metadata": {
    "collapsed": true
   },
   "outputs": [],
   "source": [
    "gen_adaptive(m,pcs,10,name=\"composition_{0}\".format(batches))"
   ]
  }
 ],
 "metadata": {
  "kernelspec": {
   "display_name": "Python 2",
   "language": "python",
   "name": "python2"
  },
  "language_info": {
   "codemirror_mode": {
    "name": "ipython",
    "version": 2
   },
   "file_extension": ".py",
   "mimetype": "text/x-python",
   "name": "python",
   "nbconvert_exporter": "python",
   "pygments_lexer": "ipython2",
   "version": "2.7.10"
  }
 },
 "nbformat": 4,
 "nbformat_minor": 0
}
