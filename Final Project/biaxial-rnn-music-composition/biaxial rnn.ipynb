{
 "cells": [
  {
   "cell_type": "code",
   "execution_count": 1,
   "metadata": {
    "collapsed": false,
    "scrolled": true
   },
   "outputs": [
    {
     "name": "stderr",
     "output_type": "stream",
     "text": [
      "Using gpu device 0: GeForce GTX 860M (CNMeM is enabled with initial size: 80.0% of memory, CuDNN 4004)\n"
     ]
    }
   ],
   "source": [
    "import cPickle as pickle\n",
    "import gzip\n",
    "import numpy\n",
    "from midi_to_statematrix import *\n",
    "\n",
    "import multi_training\n",
    "import model\n",
    "\n",
    "\n",
    "def gen_adaptive(m, pcs, times, keep_thoughts=False, name=\"final\"):\n",
    "    xIpt, xOpt = map(lambda x: numpy.array(x, dtype='int8'), multi_training.getPieceSegment(pcs))\n",
    "    all_outputs = [xOpt[0]]\n",
    "    if keep_thoughts:\n",
    "        all_thoughts = []\n",
    "    m.start_slow_walk(xIpt[0])\n",
    "    cons = 1\n",
    "    for time in range(multi_training.batch_len * times):\n",
    "        resdata = m.slow_walk_fun(cons)\n",
    "        nnotes = numpy.sum(resdata[-1][:, 0])\n",
    "        if nnotes < 2:\n",
    "            if cons > 1:\n",
    "                cons = 1\n",
    "            cons -= 0.02\n",
    "        else:\n",
    "            cons += (1 - cons) * 0.3\n",
    "        all_outputs.append(resdata[-1])\n",
    "        if keep_thoughts:\n",
    "            all_thoughts.append(resdata)\n",
    "    noteStateMatrixToMidi(numpy.array(all_outputs), 'output/' + name)\n",
    "    if keep_thoughts:\n",
    "        pickle.dump(all_thoughts, open('output/' + name + '.p', 'wb'))\n",
    "\n",
    "\n",
    "def fetch_train_thoughts(m, pcs, batches, name=\"trainthoughts\"):\n",
    "    all_thoughts = []\n",
    "    for i in range(batches):\n",
    "        ipt, opt = multi_training.getPieceBatch(pcs)\n",
    "        thoughts = m.update_thought_fun(ipt, opt)\n",
    "        all_thoughts.append((ipt, opt, thoughts))\n",
    "    pickle.dump(all_thoughts, open('output/' + name + '.p', 'wb'))"
   ]
  },
  {
   "cell_type": "code",
   "execution_count": 2,
   "metadata": {
    "collapsed": false,
    "scrolled": true
   },
   "outputs": [
    {
     "name": "stdout",
     "output_type": "stream",
     "text": [
      "Loaded preprocessed notes...\n"
     ]
    }
   ],
   "source": [
    "#pieces_major = multi_training.loadPieces('music/major')\n",
    "pieces_minor = multi_training.loadPieces('music/minor')"
   ]
  },
  {
   "cell_type": "code",
   "execution_count": 3,
   "metadata": {
    "collapsed": false
   },
   "outputs": [
    {
     "name": "stderr",
     "output_type": "stream",
     "text": [
      "model.py:367: UserWarning: Updating an `OrderedUpdates` with a non-ordered dictionary with 2+ elements could make your code non-deterministic\n",
      "  self.walk_input: next_input\n",
      "model.py:370: UserWarning: Updating an `OrderedUpdates` with a non-ordered dictionary with 2+ elements could make your code non-deterministic\n",
      "  updates.update({hidden:newstate for hidden, newstate, layer in zip(self.walk_hiddens, new_states, self.time_model.layers) if has_hidden(layer)})\n"
     ]
    }
   ],
   "source": [
    "m = model.Model([300, 300], [100, 50], dropout=0.5)"
   ]
  },
  {
   "cell_type": "code",
   "execution_count": 4,
   "metadata": {
    "collapsed": false
   },
   "outputs": [],
   "source": [
    "m.learned_config = pickle.load(open(\"output/params800.p\", \"rb\"))"
   ]
  },
  {
   "cell_type": "code",
   "execution_count": null,
   "metadata": {
    "collapsed": false,
    "scrolled": true
   },
   "outputs": [],
   "source": [
    "batches = 7000\n",
    "\n",
    "multi_training.trainPiece(m, pieces_major, batches)#, notes_to_input = None)\n",
    "\n",
    "pickle.dump(m.learned_config, open(\"output/final_learned_config_major_{0}.p\".format(1*batches), \"wb\"))"
   ]
  },
  {
   "cell_type": "code",
   "execution_count": 5,
   "metadata": {
    "collapsed": false
   },
   "outputs": [
    {
     "name": "stdout",
     "output_type": "stream",
     "text": [
      "epoch 0, error=102662.257812\n",
      "epoch 100, error=13485.3583984\n",
      "epoch 200, error=12169.6621094\n",
      "epoch 300, error=9206.33496094\n",
      "epoch 400, error=9261.92285156\n",
      "epoch 500, error=6603.90136719\n",
      "epoch 600, error=9632.01074219\n",
      "epoch 700, error=7299.16796875\n",
      "epoch 800, error=6444.72509766\n"
     ]
    }
   ],
   "source": [
    "batches = 7000\n",
    "\n",
    "multi_training.trainPiece(m, pieces_minor, batches)#, notes_to_input = None)\n",
    "\n",
    "pickle.dump(m.learned_config, open(\"output/final_learned_config_minor_{0}.p\".format(5500+800+batches), \"wb\"))"
   ]
  },
  {
   "cell_type": "code",
   "execution_count": 4,
   "metadata": {
    "collapsed": true
   },
   "outputs": [],
   "source": [
    "gen_adaptive(m,pcs,10,name=\"composition_{0}\".format(batches))"
   ]
  },
  {
   "cell_type": "code",
   "execution_count": 5,
   "metadata": {
    "collapsed": true
   },
   "outputs": [],
   "source": [
    "p = pickle.load(open('music/notes_to_input.pkl', \"rb\"))"
   ]
  },
  {
   "cell_type": "code",
   "execution_count": 5,
   "metadata": {
    "collapsed": false
   },
   "outputs": [],
   "source": [
    "import numpy\n",
    "from data import *\n",
    "notes_to_input = numpy.array([noteStateMatrixToInputForm(p) for p in pieces.values()])"
   ]
  }
 ],
 "metadata": {
  "kernelspec": {
   "display_name": "Python 2",
   "language": "python",
   "name": "python2"
  },
  "language_info": {
   "codemirror_mode": {
    "name": "ipython",
    "version": 2
   },
   "file_extension": ".py",
   "mimetype": "text/x-python",
   "name": "python",
   "nbconvert_exporter": "python",
   "pygments_lexer": "ipython2",
   "version": "2.7.11"
  }
 },
 "nbformat": 4,
 "nbformat_minor": 0
}
