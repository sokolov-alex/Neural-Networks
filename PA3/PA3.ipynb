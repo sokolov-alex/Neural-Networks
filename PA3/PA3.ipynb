{
 "cells": [
  {
   "cell_type": "code",
   "execution_count": 1,
   "metadata": {
    "collapsed": false
   },
   "outputs": [
    {
     "name": "stdout",
     "output_type": "stream",
     "text": [
      "ok\n"
     ]
    }
   ],
   "source": [
    "import sys, os\n",
    "sys.path.insert(0, os.getcwd()+'/..')\n",
    "\n",
    "import numpy as np\n",
    "import pandas as pd\n",
    "from random import randint\n",
    "import matplotlib.pyplot as plt\n",
    "from PIL import Image\n",
    "import caffe\n",
    "from DataLoader import load_cifar\n",
    "%matplotlib inline\n",
    "\n",
    "caffe.set_mode_gpu()\n",
    "caffe.set_device(0)\n",
    "\n",
    "load_cifar(datapath = '../Data')\n",
    "print 'ok'"
   ]
  },
  {
   "cell_type": "code",
   "execution_count": null,
   "metadata": {
    "collapsed": true
   },
   "outputs": [],
   "source": [
    "import caffe\n",
    "from caffe import layers as L\n",
    "from caffe import params as P\n",
    "\n",
    "\n",
    "def cnn(hdf5, batch_size):\n",
    "    n = caffe.NetSpec()\n",
    "    n.data, n.label_coarse, n.label_fine = L.HDF5Data(batch_size=batch_size, source=hdf5, ntop=3)\n",
    "    \n",
    "    n.conv1 = L.Convolution(n.data, kernel_size=4, num_output=64, weight_filler=dict(type='xavier'))\n",
    "    n.cccp1a = L.Convolution(n.conv1, kernel_size=1, num_output=42, weight_filler=dict(type='xavier'))\n",
    "    n.relu1a = L.ReLU(n.cccp1a, in_place=True)\n",
    "    n.cccp1b = L.Convolution(n.relu1a, kernel_size=1, num_output=32, weight_filler=dict(type='xavier'))\n",
    "    n.pool1 = L.Pooling(n.cccp1b, kernel_size=3, stride=2, pool=P.Pooling.MAX)\n",
    "    n.drop1 = L.Dropout(n.pool1, in_place=True)\n",
    "    n.relu1b = L.ReLU(n.drop1, in_place=True)\n",
    "    \n",
    "    n.conv2 = L.Convolution(n.relu1b, kernel_size=4, num_output=42, weight_filler=dict(type='xavier'))\n",
    "    n.pool2 = L.Pooling(n.conv2, kernel_size=3, stride=2, pool=P.Pooling.MAX)\n",
    "    n.drop2 = L.Dropout(n.pool2, in_place=True)\n",
    "    n.relu2 = L.ReLU(n.drop2, in_place=True)\n",
    "    \n",
    "    n.conv3 = L.Convolution(n.relu2, kernel_size=2, num_output=64, weight_filler=dict(type='xavier'))\n",
    "    n.pool3 = L.Pooling(n.conv3, kernel_size=2, stride=2, pool=P.Pooling.AVE)\n",
    "    n.relu3 = L.ReLU(n.pool3, in_place=True)\n",
    "    \n",
    "    n.ip1 = L.InnerProduct(n.relu3, num_output=768, weight_filler=dict(type='xavier'))\n",
    "    n.sig1 = L.Sigmoid(n.ip1, in_place=True)\n",
    "    \n",
    "    n.ip_c = L.InnerProduct(n.sig1, num_output=20, weight_filler=dict(type='xavier'))\n",
    "    n.accuracy_c = L.Accuracy(n.ip_c, n.label_coarse)\n",
    "    n.loss_c = L.SoftmaxWithLoss(n.ip_c, n.label_coarse)\n",
    "    \n",
    "    n.ip_f = L.InnerProduct(n.sig1, num_output=100, weight_filler=dict(type='xavier'))\n",
    "    n.accuracy_f = L.Accuracy(n.ip_f, n.label_fine)\n",
    "    n.loss_f = L.SoftmaxWithLoss(n.ip_f, n.label_fine)\n",
    "    \n",
    "    return n.to_proto()\n",
    "    \n",
    "\n",
    "def lenet(hdf5, batch_size):\n",
    "    n = caffe.NetSpec()\n",
    "    n.data, n.label_coarse, n.label_fine = L.HDF5Data(batch_size=batch_size, source=hdf5, ntop=3)\n",
    "    \n",
    "    \n",
    "    n.conv1 = L.Convolution(n.data, kernel_size=3, num_output=48, weight_filler=dict(type='xavier'))\n",
    "    n.cccp1a = L.Convolution(n.conv1, kernel_size=1, num_output=42, weight_filler=dict(type='xavier'))\n",
    "    n.relu1a = L.ReLU(n.cccp1a, in_place=True)\n",
    "    n.cccp1b = L.Convolution(n.relu1a, kernel_size=1, num_output=32, weight_filler=dict(type='xavier'))\n",
    "    n.pool1 = L.Pooling(n.relu1a, kernel_size=2, stride=2, pool=P.Pooling.MAX)\n",
    "    n.drop1 = L.Dropout(n.pool1, in_place=True)\n",
    "    #n.relu1b = L.ReLU(n.drop1, in_place=True)\n",
    "    \n",
    "    n.conv2 = L.Convolution(n.drop1, kernel_size=4, num_output=42, weight_filler=dict(type='xavier'))\n",
    "    n.pool2 = L.Pooling(n.conv2, kernel_size=3, stride=2, pool=P.Pooling.MAX)\n",
    "    #n.drop2 = L.Dropout(n.pool2, in_place=True)\n",
    "    n.relu2 = L.ReLU(n.pool2, in_place=True)\n",
    "    \n",
    "    n.conv3 = L.Convolution(n.relu2, kernel_size=2, num_output=64, weight_filler=dict(type='xavier'))\n",
    "    n.pool3 = L.Pooling(n.conv3, kernel_size=2, stride=2, pool=P.Pooling.AVE)\n",
    "    #n.relu3 = L.ReLU(n.pool3, in_place=True)\n",
    "    \n",
    "    n.ip1 = L.InnerProduct(n.pool3, num_output=350, weight_filler=dict(type='xavier'))\n",
    "    n.sig1 = L.Sigmoid(n.ip1, in_place=True)\n",
    "    \n",
    "    #n.ip_c = L.InnerProduct(n.sig1, num_output=20, weight_filler=dict(type='xavier'))\n",
    "    #n.accuracy_c = L.Accuracy(n.ip_c, n.label_coarse)\n",
    "    #n.loss_c = L.SoftmaxWithLoss(n.ip_c, n.label_coarse)\n",
    "    \n",
    "    n.ip_f = L.InnerProduct(n.sig1, num_output=100, weight_filler=dict(type='xavier'))\n",
    "    n.accuracy_f = L.Accuracy(n.ip_f, n.label_fine)\n",
    "    n.loss_f = L.SoftmaxWithLoss(n.ip_f, n.label_fine)\n",
    "    \n",
    "    \n",
    "    return n.to_proto()\n",
    "\n",
    "    \n",
    "with open('cnn_train.prototxt', 'w') as f:\n",
    "    f.write(str(cnn('train.txt', 128)))\n",
    "    \n",
    "with open('cnn_test.prototxt', 'w') as f:\n",
    "    f.write(str(cnn('test.txt', 128)))\n",
    "\n",
    "solver = caffe.get_solver('cnn_solver_rms.prototxt')\n",
    "\n",
    "print(\"Layers' features:\")\n",
    "[(k, v.data.shape) for k, v in solver.net.blobs.items()]"
   ]
  },
  {
   "cell_type": "code",
   "execution_count": null,
   "metadata": {
    "collapsed": true
   },
   "outputs": [],
   "source": [
    "print(\"Parameters and shape:\")\n",
    "[(k, v[0].data.shape) for k, v in solver.net.params.items()]"
   ]
  },
  {
   "cell_type": "code",
   "execution_count": null,
   "metadata": {
    "collapsed": true
   },
   "outputs": [],
   "source": [
    "!cat cnn_solver_rms.prototxt"
   ]
  },
  {
   "cell_type": "code",
   "execution_count": 22,
   "metadata": {
    "collapsed": false
   },
   "outputs": [],
   "source": [
    "from subprocess import call\n",
    "def change_solver(optimizer='RMSProp', max_iter = 100):\n",
    "    global solver\n",
    "    call(\n",
    "'''echo \"train_net: 'cnn_train.prototxt'\n",
    "test_net: 'cnn_test.prototxt'\n",
    "\n",
    "test_iter: 0\n",
    "test_interval: {1}0\n",
    "\n",
    "base_lr: 0.0006\n",
    "momentum: 0.0\n",
    "weight_decay: 0.001\n",
    "\n",
    "lr_policy: 'inv'\n",
    "gamma: 0.0001\n",
    "power: 0.75\n",
    "\n",
    "display: 0\n",
    "\n",
    "max_iter: {1}\n",
    "\n",
    "snapshot: {2}\n",
    "snapshot_prefix: 'snapshots/cnn_snapshot'\n",
    "solver_mode: GPU\n",
    "\n",
    "type: '{0}'\n",
    "rms_decay: 0.98\" > new_solver.prototxt'''.format(optimizer, max_iter, max_iter-1),\n",
    "            shell=True\n",
    "        )\n",
    "    solver = caffe.get_solver('new_solver.prototxt')\n",
    "#base_lr: 0.01\n",
    "#momentum: 0.9\n",
    "#weight_decay: 0.0005"
   ]
  },
  {
   "cell_type": "code",
   "execution_count": null,
   "metadata": {
    "collapsed": true
   },
   "outputs": [],
   "source": [
    "#%%time\n",
    "#!$CAFFE_ROOT/build/tools/caffe train -solver cnn_solver_rms.prototxt"
   ]
  },
  {
   "cell_type": "code",
   "execution_count": null,
   "metadata": {
    "collapsed": true
   },
   "outputs": [],
   "source": [
    "#%%time\n",
    "#!$CAFFE_ROOT/build/tools/caffe test -model cnn_test.prototxt -weights cnn_snapshot_iter_10000.caffemodel -iterations 10"
   ]
  },
  {
   "cell_type": "code",
   "execution_count": 39,
   "metadata": {
    "collapsed": false
   },
   "outputs": [
    {
     "data": {
      "image/png": "[encoded data removed]",
      "text/plain": [
       "<matplotlib.figure.Figure at 0x7f3fa36b4d50>"
      ]
     },
     "metadata": {},
     "output_type": "display_data"
    },
    {
     "data": {
      "text/plain": [
       "<matplotlib.figure.Figure at 0x7f3fa35a8fd0>"
      ]
     },
     "metadata": {},
     "output_type": "display_data"
    }
   ],
   "source": [
    "from mpl_toolkits.axes_grid1 import host_subplot\n",
    "import mpl_toolkits.axisartist as AA\n",
    "import matplotlib.pyplot as plt\n",
    "\n",
    "def plot_accuracy_loss(train_loss, test_loss, test_acc, solution_id, test_interval):  \n",
    "    host = host_subplot(111, axes_class=AA.Axes)\n",
    "    plt.subplots_adjust(right=0.75)\n",
    "\n",
    "    par1 = host.twinx()\n",
    "    par2 = host.twinx()\n",
    "\n",
    "    offset = 60\n",
    "    new_fixed_axis = par2.get_grid_helper().new_fixed_axis\n",
    "    par2.axis[\"right\"] = new_fixed_axis(loc=\"right\",\n",
    "                                        axes=par2,\n",
    "                                        offset=(offset, 0))\n",
    "\n",
    "    par2.axis[\"right\"].toggle(all=True)\n",
    "\n",
    "    host.set_xlim(0, 2)\n",
    "    host.set_ylim(0, 2)\n",
    "\n",
    "    host.set_xlabel(\"Iterations\")\n",
    "    host.set_ylabel(\"Test accuracy\")\n",
    "    par1.set_ylabel(\"Train loss\")\n",
    "    par2.set_ylabel(\"Test loss\")\n",
    "    xs = np.array(range(len(test_acc)))*test_interval\n",
    "    p1, = host.plot(xs, test_acc, label=\"Test accuracy\")\n",
    "    p2, = par1.plot(xs, train_loss, label=\"Train loss\")\n",
    "    p3, = par2.plot(xs, test_loss, label=\"Test loss\")\n",
    "    \n",
    "    host.set_ylim(0,1)\n",
    "    #par1.set_ylim(0, 4)\n",
    "    #par2.set_ylim(1, 65)\n",
    "\n",
    "    host.legend()\n",
    "\n",
    "    host.axis[\"right\"].label.set_color(p1.get_color())\n",
    "    par1.axis[\"left\"].label.set_color(p2.get_color())\n",
    "    par2.axis[\"left\"].label.set_color(p3.get_color())\n",
    "\n",
    "    plt.draw()\n",
    "    plt.show()\n",
    "    plt.savefig(\"figures/{}\".format(solution_id))\n",
    "\n",
    "\n",
    "def run_solver():\n",
    "    solution_id = randint(1,100000)\n",
    "    niter = 300\n",
    "    test_interval = 100\n",
    "    output_len = int(np.ceil(niter * 1.0 / test_interval))\n",
    "\n",
    "    train_loss = np.zeros(output_len)\n",
    "    test_loss = np.zeros(output_len)\n",
    "    test_acc = np.zeros(output_len)\n",
    "\n",
    "    for it in range(output_len):\n",
    "        solver.step(test_interval)\n",
    "        train_loss[it] = solver.net.blobs['loss_f'].data\n",
    "\n",
    "        # store the output on the first test batch\n",
    "        # (start the forward pass at conv1 to avoid loading new data)\n",
    "        solver.test_nets[0].forward(start='conv1')\n",
    "\n",
    "        print 'Iteration', it, 'testing...'\n",
    "        correct = 0\n",
    "        for test_it in range(100):\n",
    "            solver.test_nets[0].forward()\n",
    "            correct += sum(solver.test_nets[0].blobs['ip_f'].data.argmax(axis=1)\n",
    "                           == solver.test_nets[0].blobs['label_fine'].data)\n",
    "        test_acc[it / test_interval] = correct / 1e4\n",
    "        test_loss[it / test_interval] = solver.test_nets[0].blobs['loss_f'].data\n",
    "    plot_accuracy_loss(train_loss, test_loss, test_acc, solution_id, test_interval)    \n",
    "    return train_loss, test_loss, test_acc, solution_id, test_interval"
   ]
  },
  {
   "cell_type": "code",
   "execution_count": 23,
   "metadata": {
    "collapsed": true
   },
   "outputs": [],
   "source": [
    "change_solver(optimizer='RMSProp', max_iter = 10000)\n",
    "run_solver()"
   ]
  },
  {
   "cell_type": "code",
   "execution_count": 18,
   "metadata": {
    "collapsed": false
   },
   "outputs": [
    {
     "data": {
      "text/plain": [
       "3"
      ]
     },
     "execution_count": 18,
     "metadata": {},
     "output_type": "execute_result"
    }
   ],
   "source": [
    "test_acc.shape[0]"
   ]
  },
  {
   "cell_type": "code",
   "execution_count": 10,
   "metadata": {
    "collapsed": false
   },
   "outputs": [
    {
     "data": {
      "text/plain": [
       "(300,)"
      ]
     },
     "execution_count": 10,
     "metadata": {},
     "output_type": "execute_result"
    }
   ],
   "source": [
    "train_loss.shape"
   ]
  }
 ],
 "metadata": {
  "kernelspec": {
   "display_name": "Python 2",
   "language": "python",
   "name": "python2"
  },
  "language_info": {
   "codemirror_mode": {
    "name": "ipython",
    "version": 2
   },
   "file_extension": ".py",
   "mimetype": "text/x-python",
   "name": "python",
   "nbconvert_exporter": "python",
   "pygments_lexer": "ipython2",
   "version": "2.7.11"
  }
 },
 "nbformat": 4,
 "nbformat_minor": 0
}
